{
 "cells": [
  {
   "cell_type": "code",
   "execution_count": 1,
   "metadata": {},
   "outputs": [],
   "source": [
    "#(2) Les caractéristiques statistiques de cet ensemble de données\n",
    "import pandas as pd\n",
    "import numpy as np\n",
    "\n",
    "vin= pd.read_excel('data_vinCopie.xlsx')"
   ]
  },
  {
   "cell_type": "code",
   "execution_count": 2,
   "metadata": {},
   "outputs": [
    {
     "data": {
      "text/html": [
       "<div>\n",
       "<style scoped>\n",
       "    .dataframe tbody tr th:only-of-type {\n",
       "        vertical-align: middle;\n",
       "    }\n",
       "\n",
       "    .dataframe tbody tr th {\n",
       "        vertical-align: top;\n",
       "    }\n",
       "\n",
       "    .dataframe thead th {\n",
       "        text-align: right;\n",
       "    }\n",
       "</style>\n",
       "<table border=\"1\" class=\"dataframe\">\n",
       "  <thead>\n",
       "    <tr style=\"text-align: right;\">\n",
       "      <th></th>\n",
       "      <th>ID_individu</th>\n",
       "      <th>fixed_acidity</th>\n",
       "      <th>volatile_acidity</th>\n",
       "      <th>citric_acid</th>\n",
       "      <th>residual_sugar</th>\n",
       "      <th>chlorides</th>\n",
       "      <th>free_sulfur_dioxide</th>\n",
       "      <th>total_sulfur_dioxide</th>\n",
       "      <th>density</th>\n",
       "      <th>pH</th>\n",
       "      <th>sulphates</th>\n",
       "      <th>alcohol</th>\n",
       "    </tr>\n",
       "  </thead>\n",
       "  <tbody>\n",
       "    <tr>\n",
       "      <th>0</th>\n",
       "      <td>0</td>\n",
       "      <td>7.0</td>\n",
       "      <td>0.270</td>\n",
       "      <td>0.36</td>\n",
       "      <td>20.7</td>\n",
       "      <td>0.045</td>\n",
       "      <td>45.0</td>\n",
       "      <td>170.0</td>\n",
       "      <td>1.00100</td>\n",
       "      <td>3.00</td>\n",
       "      <td>0.45</td>\n",
       "      <td>8.8</td>\n",
       "    </tr>\n",
       "    <tr>\n",
       "      <th>1</th>\n",
       "      <td>1</td>\n",
       "      <td>6.3</td>\n",
       "      <td>0.300</td>\n",
       "      <td>0.34</td>\n",
       "      <td>1.6</td>\n",
       "      <td>0.049</td>\n",
       "      <td>14.0</td>\n",
       "      <td>132.0</td>\n",
       "      <td>0.99400</td>\n",
       "      <td>3.30</td>\n",
       "      <td>0.49</td>\n",
       "      <td>9.5</td>\n",
       "    </tr>\n",
       "    <tr>\n",
       "      <th>2</th>\n",
       "      <td>2</td>\n",
       "      <td>8.1</td>\n",
       "      <td>0.280</td>\n",
       "      <td>0.40</td>\n",
       "      <td>6.9</td>\n",
       "      <td>0.050</td>\n",
       "      <td>30.0</td>\n",
       "      <td>97.0</td>\n",
       "      <td>0.99510</td>\n",
       "      <td>3.26</td>\n",
       "      <td>0.44</td>\n",
       "      <td>10.1</td>\n",
       "    </tr>\n",
       "    <tr>\n",
       "      <th>3</th>\n",
       "      <td>3</td>\n",
       "      <td>7.2</td>\n",
       "      <td>0.230</td>\n",
       "      <td>0.32</td>\n",
       "      <td>8.5</td>\n",
       "      <td>0.058</td>\n",
       "      <td>47.0</td>\n",
       "      <td>186.0</td>\n",
       "      <td>0.99560</td>\n",
       "      <td>3.19</td>\n",
       "      <td>0.40</td>\n",
       "      <td>9.9</td>\n",
       "    </tr>\n",
       "    <tr>\n",
       "      <th>4</th>\n",
       "      <td>4</td>\n",
       "      <td>7.2</td>\n",
       "      <td>0.230</td>\n",
       "      <td>0.32</td>\n",
       "      <td>8.5</td>\n",
       "      <td>0.058</td>\n",
       "      <td>47.0</td>\n",
       "      <td>186.0</td>\n",
       "      <td>0.99560</td>\n",
       "      <td>3.19</td>\n",
       "      <td>0.40</td>\n",
       "      <td>9.9</td>\n",
       "    </tr>\n",
       "    <tr>\n",
       "      <th>...</th>\n",
       "      <td>...</td>\n",
       "      <td>...</td>\n",
       "      <td>...</td>\n",
       "      <td>...</td>\n",
       "      <td>...</td>\n",
       "      <td>...</td>\n",
       "      <td>...</td>\n",
       "      <td>...</td>\n",
       "      <td>...</td>\n",
       "      <td>...</td>\n",
       "      <td>...</td>\n",
       "      <td>...</td>\n",
       "    </tr>\n",
       "    <tr>\n",
       "      <th>6492</th>\n",
       "      <td>1594</td>\n",
       "      <td>6.2</td>\n",
       "      <td>0.600</td>\n",
       "      <td>0.08</td>\n",
       "      <td>2.0</td>\n",
       "      <td>0.090</td>\n",
       "      <td>32.0</td>\n",
       "      <td>44.0</td>\n",
       "      <td>0.99490</td>\n",
       "      <td>3.45</td>\n",
       "      <td>0.58</td>\n",
       "      <td>10.5</td>\n",
       "    </tr>\n",
       "    <tr>\n",
       "      <th>6493</th>\n",
       "      <td>1595</td>\n",
       "      <td>5.9</td>\n",
       "      <td>0.550</td>\n",
       "      <td>0.10</td>\n",
       "      <td>2.2</td>\n",
       "      <td>0.062</td>\n",
       "      <td>39.0</td>\n",
       "      <td>51.0</td>\n",
       "      <td>0.99512</td>\n",
       "      <td>3.52</td>\n",
       "      <td>0.76</td>\n",
       "      <td>11.2</td>\n",
       "    </tr>\n",
       "    <tr>\n",
       "      <th>6494</th>\n",
       "      <td>1596</td>\n",
       "      <td>6.3</td>\n",
       "      <td>0.510</td>\n",
       "      <td>0.13</td>\n",
       "      <td>2.3</td>\n",
       "      <td>0.076</td>\n",
       "      <td>29.0</td>\n",
       "      <td>40.0</td>\n",
       "      <td>0.99574</td>\n",
       "      <td>3.42</td>\n",
       "      <td>0.75</td>\n",
       "      <td>11.0</td>\n",
       "    </tr>\n",
       "    <tr>\n",
       "      <th>6495</th>\n",
       "      <td>1597</td>\n",
       "      <td>5.9</td>\n",
       "      <td>0.645</td>\n",
       "      <td>0.12</td>\n",
       "      <td>2.0</td>\n",
       "      <td>0.075</td>\n",
       "      <td>32.0</td>\n",
       "      <td>44.0</td>\n",
       "      <td>0.99547</td>\n",
       "      <td>3.57</td>\n",
       "      <td>0.71</td>\n",
       "      <td>10.2</td>\n",
       "    </tr>\n",
       "    <tr>\n",
       "      <th>6496</th>\n",
       "      <td>1598</td>\n",
       "      <td>6.0</td>\n",
       "      <td>0.310</td>\n",
       "      <td>0.47</td>\n",
       "      <td>3.6</td>\n",
       "      <td>0.067</td>\n",
       "      <td>18.0</td>\n",
       "      <td>42.0</td>\n",
       "      <td>0.99549</td>\n",
       "      <td>3.39</td>\n",
       "      <td>0.66</td>\n",
       "      <td>11.0</td>\n",
       "    </tr>\n",
       "  </tbody>\n",
       "</table>\n",
       "<p>6497 rows × 12 columns</p>\n",
       "</div>"
      ],
      "text/plain": [
       "      ID_individu  fixed_acidity  volatile_acidity  citric_acid  \\\n",
       "0               0            7.0             0.270         0.36   \n",
       "1               1            6.3             0.300         0.34   \n",
       "2               2            8.1             0.280         0.40   \n",
       "3               3            7.2             0.230         0.32   \n",
       "4               4            7.2             0.230         0.32   \n",
       "...           ...            ...               ...          ...   \n",
       "6492         1594            6.2             0.600         0.08   \n",
       "6493         1595            5.9             0.550         0.10   \n",
       "6494         1596            6.3             0.510         0.13   \n",
       "6495         1597            5.9             0.645         0.12   \n",
       "6496         1598            6.0             0.310         0.47   \n",
       "\n",
       "      residual_sugar  chlorides  free_sulfur_dioxide  total_sulfur_dioxide  \\\n",
       "0               20.7      0.045                 45.0                 170.0   \n",
       "1                1.6      0.049                 14.0                 132.0   \n",
       "2                6.9      0.050                 30.0                  97.0   \n",
       "3                8.5      0.058                 47.0                 186.0   \n",
       "4                8.5      0.058                 47.0                 186.0   \n",
       "...              ...        ...                  ...                   ...   \n",
       "6492             2.0      0.090                 32.0                  44.0   \n",
       "6493             2.2      0.062                 39.0                  51.0   \n",
       "6494             2.3      0.076                 29.0                  40.0   \n",
       "6495             2.0      0.075                 32.0                  44.0   \n",
       "6496             3.6      0.067                 18.0                  42.0   \n",
       "\n",
       "      density    pH  sulphates  alcohol  \n",
       "0     1.00100  3.00       0.45      8.8  \n",
       "1     0.99400  3.30       0.49      9.5  \n",
       "2     0.99510  3.26       0.44     10.1  \n",
       "3     0.99560  3.19       0.40      9.9  \n",
       "4     0.99560  3.19       0.40      9.9  \n",
       "...       ...   ...        ...      ...  \n",
       "6492  0.99490  3.45       0.58     10.5  \n",
       "6493  0.99512  3.52       0.76     11.2  \n",
       "6494  0.99574  3.42       0.75     11.0  \n",
       "6495  0.99547  3.57       0.71     10.2  \n",
       "6496  0.99549  3.39       0.66     11.0  \n",
       "\n",
       "[6497 rows x 12 columns]"
      ]
     },
     "execution_count": 2,
     "metadata": {},
     "output_type": "execute_result"
    }
   ],
   "source": [
    "data=pd.DataFrame(vin)\n",
    "data"
   ]
  },
  {
   "cell_type": "code",
   "execution_count": 3,
   "metadata": {},
   "outputs": [
    {
     "name": "stdout",
     "output_type": "stream",
     "text": [
      "       ID_individu  fixed_acidity  volatile_acidity  citric_acid  \\\n",
      "count  6497.000000    6497.000000       6497.000000  6497.000000   \n",
      "mean   2042.535632       7.215307          0.339666     0.318633   \n",
      "std    1436.926393       1.296434          0.164636     0.145318   \n",
      "min       0.000000       3.800000          0.080000     0.000000   \n",
      "25%     812.000000       6.400000          0.230000     0.250000   \n",
      "50%    1649.000000       7.000000          0.290000     0.310000   \n",
      "75%    3273.000000       7.700000          0.400000     0.390000   \n",
      "max    4897.000000      15.900000          1.580000     1.660000   \n",
      "\n",
      "       residual_sugar    chlorides  free_sulfur_dioxide  total_sulfur_dioxide  \\\n",
      "count     6497.000000  6497.000000          6497.000000           6497.000000   \n",
      "mean         5.443235     0.056034            30.525319            115.744574   \n",
      "std          4.757804     0.035034            17.749400             56.521855   \n",
      "min          0.600000     0.009000             1.000000              6.000000   \n",
      "25%          1.800000     0.038000            17.000000             77.000000   \n",
      "50%          3.000000     0.047000            29.000000            118.000000   \n",
      "75%          8.100000     0.065000            41.000000            156.000000   \n",
      "max         65.800000     0.611000           289.000000            440.000000   \n",
      "\n",
      "           density           pH    sulphates      alcohol  \n",
      "count  6497.000000  6497.000000  6497.000000  6497.000000  \n",
      "mean      0.994697     3.218501     0.531268    10.491801  \n",
      "std       0.002999     0.160787     0.148806     1.192712  \n",
      "min       0.987110     2.720000     0.220000     8.000000  \n",
      "25%       0.992340     3.110000     0.430000     9.500000  \n",
      "50%       0.994890     3.210000     0.510000    10.300000  \n",
      "75%       0.996990     3.320000     0.600000    11.300000  \n",
      "max       1.038980     4.010000     2.000000    14.900000  \n"
     ]
    }
   ],
   "source": [
    "print(data.describe())"
   ]
  },
  {
   "cell_type": "code",
   "execution_count": 4,
   "metadata": {},
   "outputs": [],
   "source": [
    "#(3) L'algorithme de Kmeans pour la classification: segmentez l'ensemble de données en 10 classes\n",
    "import pandas as pd\n",
    "import matplotlib.pyplot as plt\n",
    "from sklearn.cluster import KMeans\n",
    "import numpy as np\n",
    "\n",
    "vin= pd.read_excel('data_vinCopie.xlsx')"
   ]
  },
  {
   "cell_type": "code",
   "execution_count": 5,
   "metadata": {},
   "outputs": [
    {
     "data": {
      "image/png": "[encoded data removed]",
      "text/plain": [
       "<Figure size 432x288 with 1 Axes>"
      ]
     },
     "metadata": {
      "needs_background": "light"
     },
     "output_type": "display_data"
    },
    {
     "name": "stdout",
     "output_type": "stream",
     "text": [
      "None\n",
      "[[1.05650478e+03 7.61339713e+00 3.79772727e-01 3.10885167e-01\n",
      "  3.87099282e+00 6.41578947e-02 2.48546651e+01 8.90699761e+01\n",
      "  9.95087656e-01 3.26940191e+00 5.67811005e-01 1.06090909e+01]\n",
      " [3.56300000e+03 6.70458891e+00 2.71978967e-01 3.05372849e-01\n",
      "  6.65707457e+00 4.17590822e-02 3.60219885e+01 1.31082218e+02\n",
      "  9.93262008e-01 3.15043977e+00 4.88661568e-01 1.09883365e+01]\n",
      " [4.09100000e+03 6.58836773e+00 2.80056285e-01 3.00450281e-01\n",
      "  6.84821764e+00 4.91538462e-02 3.54249531e+01 1.28575985e+02\n",
      "  9.93553931e-01 3.14542214e+00 4.90281426e-01 1.06523702e+01]\n",
      " [2.12501174e+02 7.65058685e+00 4.14706573e-01 3.09201878e-01\n",
      "  4.67171362e+00 7.17089202e-02 2.63785211e+01 1.00540493e+02\n",
      "  9.95895657e-01 3.25579812e+00 5.89424883e-01 1.00669014e+01]\n",
      " [1.99847529e+03 7.29695817e+00 2.79144487e-01 3.22661597e-01\n",
      "  7.33155894e+00 4.91349810e-02 3.57946768e+01 1.49521863e+02\n",
      "  9.95415856e-01 3.19903042e+00 4.89885932e-01 1.00749049e+01]\n",
      " [4.62750000e+03 6.28000000e+00 2.97009259e-01 3.07666667e-01\n",
      "  6.08888889e+00 4.42944444e-02 3.43240741e+01 1.28397222e+02\n",
      "  9.93017398e-01 3.19125926e+00 4.94333333e-01 1.08825309e+01]\n",
      " [6.36500000e+02 8.00770142e+00 4.08672986e-01 3.28684834e-01\n",
      "  4.63838863e+00 6.83222749e-02 2.51777251e+01 9.65468009e+01\n",
      "  9.96202334e-01 3.24178910e+00 5.77144550e-01 1.02093602e+01]\n",
      " [1.47210336e+03 7.31618929e+00 3.90666252e-01 3.32901619e-01\n",
      "  4.33916563e+00 6.04906600e-02 2.69059776e+01 1.03135741e+02\n",
      "  9.94942889e-01 3.26235367e+00 5.34346202e-01 1.05344334e+01]\n",
      " [3.04300000e+03 6.67156673e+00 2.54139265e-01 3.54371373e-01\n",
      "  5.70599613e+00 4.08413926e-02 3.53636364e+01 1.26827853e+02\n",
      "  9.92897427e-01 3.16129594e+00 4.77543520e-01 1.09847195e+01]\n",
      " [2.52300000e+03 7.00697897e+00 2.81539197e-01 3.11988528e-01\n",
      "  6.73604207e+00 4.62026769e-02 3.60372849e+01 1.47086042e+02\n",
      "  9.94698585e-01 3.21826004e+00 5.16596558e-01 1.02552581e+01]]\n"
     ]
    }
   ],
   "source": [
    "kmeans= KMeans(n_clusters=10)\n",
    "kmeans.fit(vin)\n",
    "colors= np.array(['red','green','blue','purple','gray','fuchsia','navy','olive','yellow','aqua'])\n",
    "plt.scatter(vin.ID_individu,vin.fixed_acidity,c=colors[kmeans.labels_],s=20)\n",
    "plt.scatter(kmeans.cluster_centers_[:,0],kmeans.cluster_centers_ [:,1],c='black',s=80)\n",
    "print(plt.show())\n",
    "\n",
    "print(kmeans.cluster_centers_)"
   ]
  },
  {
   "cell_type": "code",
   "execution_count": 6,
   "metadata": {},
   "outputs": [
    {
     "data": {
      "image/png": "[encoded data removed]",
      "text/plain": [
       "<Figure size 432x288 with 1 Axes>"
      ]
     },
     "metadata": {
      "needs_background": "light"
     },
     "output_type": "display_data"
    },
    {
     "name": "stdout",
     "output_type": "stream",
     "text": [
      "None\n",
      "143557763.3010009\n",
      "-143557763.30100092\n"
     ]
    }
   ],
   "source": [
    "colors= np.array(['red','green','blue','purple','gray','fuchsia','navy','olive','yellow','aqua'])\n",
    "plt.scatter(vin.ID_individu,vin.volatile_acidity,c=colors[kmeans.labels_],s=20)\n",
    "plt.scatter(kmeans.cluster_centers_[:,0],kmeans.cluster_centers_ [:,2],c='black',s=80)\n",
    "print(plt.show())\n",
    "\n",
    "print(kmeans.inertia_)\n",
    "print(kmeans.score(vin))"
   ]
  },
  {
   "cell_type": "code",
   "execution_count": 7,
   "metadata": {},
   "outputs": [],
   "source": [
    "#(5) Représentation graphique des classes dans un graphique bidimensionnel:L'Analyse à Composante Principale\n",
    "from sklearn.decomposition import PCA\n",
    "modele = PCA(n_components=2)\n",
    "x_reduced=modele.fit_transform(vin)"
   ]
  },
  {
   "cell_type": "code",
   "execution_count": 8,
   "metadata": {},
   "outputs": [
    {
     "data": {
      "text/plain": [
       "array([[ 9.99947026e-01, -3.54398205e-04, -3.69520297e-05,\n",
       "        -1.63121563e-06,  5.86662673e-04, -7.00805165e-06,\n",
       "         2.83171995e-03,  9.87051130e-03, -7.28410297e-07,\n",
       "        -2.60892401e-05, -2.55489383e-05,  1.63531688e-04],\n",
       "       [-1.02715762e-02, -5.53452139e-03, -1.01746141e-03,\n",
       "         5.31511170e-04,  3.98984974e-02, -1.32683703e-04,\n",
       "         2.27199154e-01,  9.72935026e-01,  6.79212640e-06,\n",
       "        -5.25443438e-04, -5.81169245e-04, -6.92845697e-03]])"
      ]
     },
     "execution_count": 8,
     "metadata": {},
     "output_type": "execute_result"
    },
    {
     "data": {
      "image/png": "[encoded data removed]",
      "text/plain": [
       "<Figure size 432x288 with 2 Axes>"
      ]
     },
     "metadata": {
      "needs_background": "light"
     },
     "output_type": "display_data"
    }
   ],
   "source": [
    "plt.scatter(x_reduced[:,0],x_reduced[:,1], c=kmeans.labels_)\n",
    "plt.colorbar()\n",
    "modele.components_"
   ]
  },
  {
   "cell_type": "code",
   "execution_count": 9,
   "metadata": {},
   "outputs": [],
   "source": [
    "#Détermination des caractéristiques statistiques de chacune des classes"
   ]
  },
  {
   "cell_type": "code",
   "execution_count": 10,
   "metadata": {},
   "outputs": [],
   "source": [
    "#(7) Séparation l’ensemble de données résultant (de la segmentation) en données d’apprentissage \n",
    "#et en données de test en utilisant les méthodes suivantes:\n",
    "\n",
    "#L'arbre de décision\n",
    "from sklearn.tree import DecisionTreeClassifier\n",
    "from sklearn.model_selection import train_test_split\n",
    "from sklearn import metrics\n",
    "import matplotlib.pyplot as plt\n",
    "import matplotlib.image as mpimg \n",
    "from sklearn import tree"
   ]
  },
  {
   "cell_type": "code",
   "execution_count": 11,
   "metadata": {},
   "outputs": [],
   "source": [
    "vins= pd.read_excel('data_vin.xlsx')"
   ]
  },
  {
   "cell_type": "code",
   "execution_count": 13,
   "metadata": {},
   "outputs": [],
   "source": [
    "x=pd.DataFrame(vins,columns=['ID_individu','fixed_acidity','volatile_acidity','citric_acid','residual_sugar','chlorides','free_sulfur_dioxide','total_sulfur_dioxide','density','pH','sulphates','alcohol'])\n",
    "#print(x)\n",
    "\n",
    "y=pd.DataFrame(vins,columns=['quality'])\n",
    "#print(y)"
   ]
  },
  {
   "cell_type": "code",
   "execution_count": 14,
   "metadata": {},
   "outputs": [],
   "source": [
    "from sklearn.model_selection import train_test_split\n",
    "x_train,x_test,y_train,y_test= train_test_split(x,y, test_size=0.2, random_state=3)"
   ]
  },
  {
   "cell_type": "code",
   "execution_count": 15,
   "metadata": {},
   "outputs": [
    {
     "name": "stdout",
     "output_type": "stream",
     "text": [
      "[5 7 6 6 7 5 7 7 6 6 6 6 5 6 5 6 6 6 5 6 7 5 6 6 5 6 5 5 5 6 5 5 5 5 5 6 6\n",
      " 6 6 5 5 6 6 6 7 5 6 5 6 5 6 5 6 7 6 6 6 5 6 6 6 5 6 7 6 6 5 6 7 7 6 6 5 5\n",
      " 8 6 5 5 7 6 7 5 6 6 5 6 6 5 6 7 6 5 6 5 6 5 7 5 6 6 6 7 6 5 6 5 6 6 5 5 6\n",
      " 5 6 7 5 6 5 6 6 6 6 6 5 6 5 7 5 5 5 6 7 5 6 6 5 5 5 5 5 6 5 7 6 6 6 5 5 5\n",
      " 7 6 5 6 5 6 7 5 6 5 6 5 6 6 6 5 5 6 6 7 6 5 5 6 6 5 6 6 7 5 6 5 5 6 5 6 5\n",
      " 6 6 5 7 6 6 6 6 5 7 6 6 5 7 6]\n",
      "      quality\n",
      "6245        5\n",
      "486         6\n",
      "273         5\n",
      "1993        6\n",
      "885         7\n",
      "...       ...\n",
      "3153        6\n",
      "4239        7\n",
      "5761        5\n",
      "3133        6\n",
      "5055        5\n",
      "\n",
      "[200 rows x 1 columns]\n",
      "Taux du succès de notre modèle d'arbre de décision est 0.5392307692307692\n"
     ]
    }
   ],
   "source": [
    "vinsTree=DecisionTreeClassifier(criterion=\"gini\",max_depth=8)\n",
    "vinsTree.fit(x_train,y_train)\n",
    "predTree=vinsTree.predict(x_test)\n",
    "print(predTree[0:200])\n",
    "print(y_test[0:200])\n",
    "\n",
    "print(\"Taux du succès de notre modèle d'arbre de décision est\", metrics.accuracy_score(y_test,predTree))"
   ]
  },
  {
   "cell_type": "code",
   "execution_count": 16,
   "metadata": {},
   "outputs": [
    {
     "name": "stdout",
     "output_type": "stream",
     "text": [
      "Index(['ID_individu', 'fixed_acidity', 'volatile_acidity', 'citric_acid',\n",
      "       'residual_sugar', 'chlorides', 'free_sulfur_dioxide',\n",
      "       'total_sulfur_dioxide', 'density', 'pH', 'sulphates', 'alcohol'],\n",
      "      dtype='object')\n",
      "[[  0   0   1   4   1   0   0]\n",
      " [  0   3  30  15   2   0   0]\n",
      " [  0   3 296 132   9   0   0]\n",
      " [  0   1 153 338  58   1   0]\n",
      " [  0   0  19 123  62   3   0]\n",
      " [  0   0   3  23  16   2   0]\n",
      " [  0   0   0   1   1   0   0]]\n"
     ]
    },
    {
     "ename": "AttributeError",
     "evalue": "'function' object has no attribute 'set_ticklabels'",
     "output_type": "error",
     "traceback": [
      "\u001b[1;31m---------------------------------------------------------------------------\u001b[0m",
      "\u001b[1;31mAttributeError\u001b[0m                            Traceback (most recent call last)",
      "\u001b[1;32m~\\AppData\\Local\\Temp/ipykernel_9912/14793131.py\u001b[0m in \u001b[0;36m<module>\u001b[1;34m\u001b[0m\n\u001b[0;32m     11\u001b[0m \u001b[0mplt\u001b[0m\u001b[1;33m.\u001b[0m\u001b[0mylabel\u001b[0m\u001b[1;33m(\u001b[0m\u001b[1;34m\"valeurs observées\"\u001b[0m\u001b[1;33m)\u001b[0m\u001b[1;33m\u001b[0m\u001b[1;33m\u001b[0m\u001b[0m\n\u001b[0;32m     12\u001b[0m \u001b[0mplt\u001b[0m\u001b[1;33m.\u001b[0m\u001b[0mxlabel\u001b[0m\u001b[1;33m(\u001b[0m\u001b[1;34m\"\\n valeurs prédictes\"\u001b[0m\u001b[1;33m)\u001b[0m\u001b[1;33m\u001b[0m\u001b[1;33m\u001b[0m\u001b[0m\n\u001b[1;32m---> 13\u001b[1;33m \u001b[0max\u001b[0m\u001b[1;33m.\u001b[0m\u001b[0maxis\u001b[0m\u001b[1;33m.\u001b[0m\u001b[0mset_ticklabels\u001b[0m\u001b[1;33m(\u001b[0m\u001b[0mlabels\u001b[0m\u001b[1;33m)\u001b[0m\u001b[1;33m;\u001b[0m\u001b[1;33m\u001b[0m\u001b[1;33m\u001b[0m\u001b[0m\n\u001b[0m\u001b[0;32m     14\u001b[0m \u001b[0max\u001b[0m\u001b[1;33m.\u001b[0m\u001b[0myaxis\u001b[0m\u001b[1;33m.\u001b[0m\u001b[0mset_ticklabels\u001b[0m\u001b[1;33m(\u001b[0m\u001b[0mlabels\u001b[0m\u001b[1;33m)\u001b[0m\u001b[1;33m;\u001b[0m\u001b[1;33m\u001b[0m\u001b[1;33m\u001b[0m\u001b[0m\n\u001b[0;32m     15\u001b[0m \u001b[0mplt\u001b[0m\u001b[1;33m.\u001b[0m\u001b[0mshow\u001b[0m\u001b[1;33m(\u001b[0m\u001b[1;33m)\u001b[0m\u001b[1;33m\u001b[0m\u001b[1;33m\u001b[0m\u001b[0m\n",
      "\u001b[1;31mAttributeError\u001b[0m: 'function' object has no attribute 'set_ticklabels'"
     ]
    },
    {
     "data": {
      "image/png": "[encoded data removed]",
      "text/plain": [
       "<Figure size 432x288 with 2 Axes>"
      ]
     },
     "metadata": {
      "needs_background": "light"
     },
     "output_type": "display_data"
    }
   ],
   "source": [
    "featureNames=x.columns\n",
    "print(featureNames)\n",
    "from sklearn import metrics \n",
    "print(metrics.confusion_matrix(y_test,predTree))\n",
    "\n",
    "import pylab as pl\n",
    "import seaborn as sns\n",
    "labels=['1','2','3','4','5','6','7','8','9','10']\n",
    "ax=plt.subplot(111)\n",
    "sns.heatmap(metrics.confusion_matrix(y_test,predTree),annot=True,ax=ax);\n",
    "plt.ylabel(\"valeurs observées\")\n",
    "plt.xlabel(\"\\n valeurs prédictes\")\n",
    "ax.axis.set_ticklabels(labels);\n",
    "ax.yaxis.set_ticklabels(labels);\n",
    "plt.show()"
   ]
  },
  {
   "cell_type": "code",
   "execution_count": 17,
   "metadata": {},
   "outputs": [
    {
     "name": "stdout",
     "output_type": "stream",
     "text": [
      "Using matplotlib backend: Qt5Agg\n"
     ]
    }
   ],
   "source": [
    "#La régression logistique\n",
    "%matplotlib\n",
    "import pandas as pd\n",
    "from sklearn.datasets import make_classification\n",
    "from matplotlib import pyplot as plt\n",
    "from sklearn.linear_model import LogisticRegression\n",
    "from sklearn.model_selection import train_test_split\n",
    "from sklearn.preprocessing import StandardScaler\n",
    "from sklearn.metrics import confusion_matrix\n",
    "from sklearn.metrics import classification_report\n",
    "from matplotlib.colors import ListedColormap\n",
    "from mpl_toolkits.mplot3d import Axes3D\n",
    "import seaborn as sns"
   ]
  },
  {
   "cell_type": "code",
   "execution_count": 18,
   "metadata": {},
   "outputs": [
    {
     "data": {
      "text/html": [
       "<div>\n",
       "<style scoped>\n",
       "    .dataframe tbody tr th:only-of-type {\n",
       "        vertical-align: middle;\n",
       "    }\n",
       "\n",
       "    .dataframe tbody tr th {\n",
       "        vertical-align: top;\n",
       "    }\n",
       "\n",
       "    .dataframe thead th {\n",
       "        text-align: right;\n",
       "    }\n",
       "</style>\n",
       "<table border=\"1\" class=\"dataframe\">\n",
       "  <thead>\n",
       "    <tr style=\"text-align: right;\">\n",
       "      <th></th>\n",
       "      <th>ID_individu</th>\n",
       "      <th>fixed_acidity</th>\n",
       "      <th>volatile_acidity</th>\n",
       "      <th>citric_acid</th>\n",
       "      <th>residual_sugar</th>\n",
       "      <th>chlorides</th>\n",
       "      <th>free_sulfur_dioxide</th>\n",
       "      <th>total_sulfur_dioxide</th>\n",
       "      <th>density</th>\n",
       "      <th>pH</th>\n",
       "      <th>sulphates</th>\n",
       "      <th>alcohol</th>\n",
       "      <th>quality</th>\n",
       "    </tr>\n",
       "  </thead>\n",
       "  <tbody>\n",
       "    <tr>\n",
       "      <th>0</th>\n",
       "      <td>0</td>\n",
       "      <td>7.0</td>\n",
       "      <td>0.27</td>\n",
       "      <td>0.36</td>\n",
       "      <td>20.7</td>\n",
       "      <td>0.045</td>\n",
       "      <td>45.0</td>\n",
       "      <td>170.0</td>\n",
       "      <td>1.0010</td>\n",
       "      <td>3.00</td>\n",
       "      <td>0.45</td>\n",
       "      <td>8.8</td>\n",
       "      <td>6</td>\n",
       "    </tr>\n",
       "    <tr>\n",
       "      <th>1</th>\n",
       "      <td>1</td>\n",
       "      <td>6.3</td>\n",
       "      <td>0.30</td>\n",
       "      <td>0.34</td>\n",
       "      <td>1.6</td>\n",
       "      <td>0.049</td>\n",
       "      <td>14.0</td>\n",
       "      <td>132.0</td>\n",
       "      <td>0.9940</td>\n",
       "      <td>3.30</td>\n",
       "      <td>0.49</td>\n",
       "      <td>9.5</td>\n",
       "      <td>6</td>\n",
       "    </tr>\n",
       "    <tr>\n",
       "      <th>2</th>\n",
       "      <td>2</td>\n",
       "      <td>8.1</td>\n",
       "      <td>0.28</td>\n",
       "      <td>0.40</td>\n",
       "      <td>6.9</td>\n",
       "      <td>0.050</td>\n",
       "      <td>30.0</td>\n",
       "      <td>97.0</td>\n",
       "      <td>0.9951</td>\n",
       "      <td>3.26</td>\n",
       "      <td>0.44</td>\n",
       "      <td>10.1</td>\n",
       "      <td>6</td>\n",
       "    </tr>\n",
       "    <tr>\n",
       "      <th>3</th>\n",
       "      <td>3</td>\n",
       "      <td>7.2</td>\n",
       "      <td>0.23</td>\n",
       "      <td>0.32</td>\n",
       "      <td>8.5</td>\n",
       "      <td>0.058</td>\n",
       "      <td>47.0</td>\n",
       "      <td>186.0</td>\n",
       "      <td>0.9956</td>\n",
       "      <td>3.19</td>\n",
       "      <td>0.40</td>\n",
       "      <td>9.9</td>\n",
       "      <td>6</td>\n",
       "    </tr>\n",
       "    <tr>\n",
       "      <th>4</th>\n",
       "      <td>4</td>\n",
       "      <td>7.2</td>\n",
       "      <td>0.23</td>\n",
       "      <td>0.32</td>\n",
       "      <td>8.5</td>\n",
       "      <td>0.058</td>\n",
       "      <td>47.0</td>\n",
       "      <td>186.0</td>\n",
       "      <td>0.9956</td>\n",
       "      <td>3.19</td>\n",
       "      <td>0.40</td>\n",
       "      <td>9.9</td>\n",
       "      <td>6</td>\n",
       "    </tr>\n",
       "  </tbody>\n",
       "</table>\n",
       "</div>"
      ],
      "text/plain": [
       "   ID_individu  fixed_acidity  volatile_acidity  citric_acid  residual_sugar  \\\n",
       "0            0            7.0              0.27         0.36            20.7   \n",
       "1            1            6.3              0.30         0.34             1.6   \n",
       "2            2            8.1              0.28         0.40             6.9   \n",
       "3            3            7.2              0.23         0.32             8.5   \n",
       "4            4            7.2              0.23         0.32             8.5   \n",
       "\n",
       "   chlorides  free_sulfur_dioxide  total_sulfur_dioxide  density    pH  \\\n",
       "0      0.045                 45.0                 170.0   1.0010  3.00   \n",
       "1      0.049                 14.0                 132.0   0.9940  3.30   \n",
       "2      0.050                 30.0                  97.0   0.9951  3.26   \n",
       "3      0.058                 47.0                 186.0   0.9956  3.19   \n",
       "4      0.058                 47.0                 186.0   0.9956  3.19   \n",
       "\n",
       "   sulphates  alcohol  quality  \n",
       "0       0.45      8.8        6  \n",
       "1       0.49      9.5        6  \n",
       "2       0.44     10.1        6  \n",
       "3       0.40      9.9        6  \n",
       "4       0.40      9.9        6  "
      ]
     },
     "execution_count": 18,
     "metadata": {},
     "output_type": "execute_result"
    }
   ],
   "source": [
    "datas= pd.read_excel('data_vin.xlsx')\n",
    "datas.head()"
   ]
  },
  {
   "cell_type": "code",
   "execution_count": 19,
   "metadata": {},
   "outputs": [],
   "source": [
    "x_train,x_test,y_train,y_test= train_test_split(x,y, test_size=0.2, random_state=3)"
   ]
  },
  {
   "cell_type": "code",
   "execution_count": 20,
   "metadata": {},
   "outputs": [
    {
     "data": {
      "text/plain": [
       "array([[-0.47999491, -0.01321709,  1.92299282, ...,  0.75775128,\n",
       "        -0.94816229, -0.82770763],\n",
       "       [-1.08211052, -0.94723509, -1.0957551 , ...,  1.50408568,\n",
       "        -0.14692661, -0.65990233],\n",
       "       [-1.23106595, -0.48022609,  1.46560677, ...,  0.13580596,\n",
       "        -1.01493193, -1.24722087],\n",
       "       ...,\n",
       "       [-0.3681035 ,  0.4537919 , -0.48590704, ...,  0.01141689,\n",
       "         0.72107871, -0.40819438],\n",
       "       [ 1.89979538, -0.94723509, -1.21772471, ...,  0.63336222,\n",
       "        -0.61431409,  0.59863741],\n",
       "       [ 0.01372591,  1.07647057,  0.88625111, ..., -1.2946683 ,\n",
       "        -1.01493193,  1.6054692 ]])"
      ]
     },
     "execution_count": 20,
     "metadata": {},
     "output_type": "execute_result"
    }
   ],
   "source": [
    "sc=StandardScaler()\n",
    "x_train=sc.fit_transform(x_train)\n",
    "x_test=sc.transform(x_test)\n",
    "x_test"
   ]
  },
  {
   "cell_type": "code",
   "execution_count": 21,
   "metadata": {},
   "outputs": [
    {
     "name": "stdout",
     "output_type": "stream",
     "text": [
      "Taux du succès de notre modèle de regression logistique est 0.5392307692307692\n"
     ]
    },
    {
     "name": "stderr",
     "output_type": "stream",
     "text": [
      "C:\\Users\\KATALA\\anaconda3\\lib\\site-packages\\sklearn\\utils\\validation.py:63: DataConversionWarning: A column-vector y was passed when a 1d array was expected. Please change the shape of y to (n_samples, ), for example using ravel().\n",
      "  return f(*args, **kwargs)\n"
     ]
    }
   ],
   "source": [
    "classifier=LogisticRegression(random_state=0,solver='liblinear')\n",
    "classifier.fit(x_train, y_train)\n",
    "y_pred=classifier.predict(x_test)\n",
    "classifier.score(x_test,y_test)\n",
    "\n",
    "print(\"Taux du succès de notre modèle de regression logistique est\", classifier.score(x_test,y_test))"
   ]
  },
  {
   "cell_type": "code",
   "execution_count": 22,
   "metadata": {},
   "outputs": [
    {
     "name": "stdout",
     "output_type": "stream",
     "text": [
      "[[  0   0   2   3   1   0   0]\n",
      " [  0   0  28  22   0   0   0]\n",
      " [  0   0 260 178   2   0   0]\n",
      " [  0   0 132 402  17   0   0]\n",
      " [  0   0  18 150  39   0   0]\n",
      " [  0   0   2  28  14   0   0]\n",
      " [  0   0   0   0   2   0   0]]\n"
     ]
    }
   ],
   "source": [
    "cm=confusion_matrix(y_test,y_pred)\n",
    "print(cm)"
   ]
  },
  {
   "cell_type": "code",
   "execution_count": null,
   "metadata": {},
   "outputs": [],
   "source": []
  }
 ],
 "metadata": {
  "kernelspec": {
   "display_name": "Python 3",
   "language": "python",
   "name": "python3"
  },
  "language_info": {
   "codemirror_mode": {
    "name": "ipython",
    "version": 3
   },
   "file_extension": ".py",
   "mimetype": "text/x-python",
   "name": "python",
   "nbconvert_exporter": "python",
   "pygments_lexer": "ipython3",
   "version": "3.8.3"
  }
 },
 "nbformat": 4,
 "nbformat_minor": 5
}
